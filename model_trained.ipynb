{
 "cells": [
  {
   "cell_type": "code",
   "execution_count": 48,
   "metadata": {},
   "outputs": [],
   "source": [
    "# Import necessary libraries\n",
    "import os\n",
    "import kagglehub\n",
    "from tensorflow.keras.preprocessing.image import ImageDataGenerator\n",
    "from tensorflow.keras.models import Sequential\n",
    "from tensorflow.keras.layers import Input, Conv2D, MaxPooling2D, Flatten, Dense, Dropout\n",
    "from tensorflow.keras.optimizers import Adam"
   ]
  },
  {
   "cell_type": "code",
   "execution_count": 13,
   "metadata": {},
   "outputs": [
    {
     "name": "stdout",
     "output_type": "stream",
     "text": [
      "Path to dataset files: D:\\pain recognition final\\data\\emotionpain\n"
     ]
    },
    {
     "name": "stderr",
     "output_type": "stream",
     "text": [
      "<>:2: SyntaxWarning: invalid escape sequence '\\p'\n",
      "<>:2: SyntaxWarning: invalid escape sequence '\\p'\n",
      "C:\\Users\\DELL\\AppData\\Local\\Temp\\ipykernel_17076\\3811003351.py:2: SyntaxWarning: invalid escape sequence '\\p'\n",
      "  path = \"D:\\pain recognition final\\data\\emotionpain\"\n"
     ]
    }
   ],
   "source": [
    "# Download the dataset\n",
    "path = \"D:\\pain recognition final\\data\\emotionpain\"\n",
    "print(\"Path to dataset files:\", path)"
   ]
  },
  {
   "cell_type": "code",
   "execution_count": 49,
   "metadata": {},
   "outputs": [],
   "source": [
    "# Step 2: Set directories for images\n",
    "train_dir = os.path.join(path, \"Frame_Labels\")  # Directory for training images\n",
    "test_dir = os.path.join(path, \"Images\")         # Directory for testing images\n"
   ]
  },
  {
   "cell_type": "code",
   "execution_count": 50,
   "metadata": {},
   "outputs": [],
   "source": [
    "# Verify directories exist\n",
    "if not os.path.exists(train_dir):\n",
    "    raise ValueError(f\"Training directory {train_dir} does not exist.\")\n",
    "if not os.path.exists(test_dir):\n",
    "    raise ValueError(f\"Testing directory {test_dir} does not exist.\")\n"
   ]
  },
  {
   "cell_type": "code",
   "execution_count": 51,
   "metadata": {},
   "outputs": [],
   "source": [
    "# Step 3: Data preprocessing\n",
    "IMG_SIZE = 200  # Image size (200x200)\n",
    "BATCH_SIZE = 32  # Batch size\n"
   ]
  },
  {
   "cell_type": "code",
   "execution_count": 52,
   "metadata": {},
   "outputs": [],
   "source": [
    "# Data augmentation for training and rescaling\n",
    "train_datagen = ImageDataGenerator(\n",
    "    rescale=1./255,\n",
    "    rotation_range=20,\n",
    "    width_shift_range=0.2,\n",
    "    height_shift_range=0.2,\n",
    "    shear_range=0.2,\n",
    "    zoom_range=0.2,\n",
    "    horizontal_flip=True,\n",
    "    fill_mode='nearest'\n",
    ")\n",
    "validation_datagen = ImageDataGenerator(rescale=1./255)"
   ]
  },
  {
   "cell_type": "code",
   "execution_count": 53,
   "metadata": {},
   "outputs": [
    {
     "name": "stdout",
     "output_type": "stream",
     "text": [
      "Found 0 images belonging to 1 classes.\n",
      "Found 48398 images belonging to 1 classes.\n"
     ]
    }
   ],
   "source": [
    "# Data generators\n",
    "train_generator = train_datagen.flow_from_directory(\n",
    "    train_dir,\n",
    "    target_size=(IMG_SIZE, IMG_SIZE),\n",
    "    batch_size=BATCH_SIZE,\n",
    "    class_mode='categorical'\n",
    ")\n",
    "validation_generator = validation_datagen.flow_from_directory(\n",
    "    test_dir,\n",
    "    target_size=(IMG_SIZE, IMG_SIZE),\n",
    "    batch_size=BATCH_SIZE,\n",
    "    class_mode='categorical'\n",
    ")"
   ]
  },
  {
   "cell_type": "code",
   "execution_count": 54,
   "metadata": {},
   "outputs": [
    {
     "name": "stdout",
     "output_type": "stream",
     "text": [
      "Training samples: 0\n",
      "Validation samples: 48398\n"
     ]
    }
   ],
   "source": [
    "# Print dataset statistics\n",
    "print(f\"Training samples: {train_generator.samples}\")\n",
    "print(f\"Validation samples: {validation_generator.samples}\")\n"
   ]
  },
  {
   "cell_type": "code",
   "execution_count": 55,
   "metadata": {},
   "outputs": [],
   "source": [
    "# Step 4: Build the model\n",
    "model = Sequential([\n",
    "    Input(shape=(IMG_SIZE, IMG_SIZE, 3)),  # Input layer\n",
    "    Conv2D(32, (3, 3), activation='relu'),\n",
    "    MaxPooling2D(pool_size=(2, 2)),\n",
    "\n",
    "    Conv2D(64, (3, 3), activation='relu'),\n",
    "    MaxPooling2D(pool_size=(2, 2)),\n",
    "\n",
    "    Conv2D(128, (3, 3), activation='relu'),\n",
    "    MaxPooling2D(pool_size=(2, 2)),\n",
    "\n",
    "    Flatten(),\n",
    "    Dense(128, activation='relu'),\n",
    "    Dropout(0.5),\n",
    "    Dense(train_generator.num_classes, activation='softmax')  # Output layer\n",
    "])"
   ]
  },
  {
   "cell_type": "code",
   "execution_count": 56,
   "metadata": {},
   "outputs": [],
   "source": [
    "# Step 5: Compile the model\n",
    "model.compile(optimizer=Adam(), loss='categorical_crossentropy', metrics=['accuracy'])"
   ]
  },
  {
   "cell_type": "code",
   "execution_count": 80,
   "metadata": {},
   "outputs": [],
   "source": [
    "import os\n",
    "from sklearn.model_selection import train_test_split\n",
    "import shutil"
   ]
  },
  {
   "cell_type": "code",
   "execution_count": 81,
   "metadata": {},
   "outputs": [],
   "source": [
    "# Paths for Frame Labels and Images\n",
    "frame_labels_dir = r\"D:\\pain recognition final\\data\\emotionpain\\Frame_Labels\\Frame_Labels\"\n",
    "images_dir = r\"D:\\pain recognition final\\data\\emotionpain\\Images\\Images\"\n"
   ]
  },
  {
   "cell_type": "code",
   "execution_count": 82,
   "metadata": {},
   "outputs": [],
   "source": [
    "# Define valid image extensions\n",
    "valid_extensions = (\".jpg\", \".jpeg\", \".png\", \".bmp\", \".tiff\")"
   ]
  },
  {
   "cell_type": "code",
   "execution_count": 83,
   "metadata": {},
   "outputs": [],
   "source": [
    "# Output directories for train and validation datasets\n",
    "output_dir = r\"D:\\pain recognition final\\processed_data\"\n",
    "train_dir = os.path.join(output_dir, \"train\")\n",
    "validation_dir = os.path.join(output_dir, \"validation\")"
   ]
  },
  {
   "cell_type": "code",
   "execution_count": 84,
   "metadata": {},
   "outputs": [],
   "source": [
    "# Create directories if they don't exist\n",
    "os.makedirs(train_dir, exist_ok=True)\n",
    "os.makedirs(validation_dir, exist_ok=True)"
   ]
  },
  {
   "cell_type": "code",
   "execution_count": 85,
   "metadata": {},
   "outputs": [
    {
     "name": "stdout",
     "output_type": "stream",
     "text": [
      "Found 48398 valid image files in the dataset.\n"
     ]
    }
   ],
   "source": [
    "# Step 1: Collect all image paths\n",
    "all_files = []\n",
    "for root, _, files in os.walk(images_dir):  # Traverse the Images directory\n",
    "    for file in files:\n",
    "        if file.lower().endswith(valid_extensions):  # Check valid image extensions\n",
    "            all_files.append(os.path.join(root, file))\n",
    "\n",
    "print(f\"Found {len(all_files)} valid image files in the dataset.\")\n"
   ]
  },
  {
   "cell_type": "code",
   "execution_count": 86,
   "metadata": {},
   "outputs": [],
   "source": [
    "# Step 2: Split into train and validation sets\n",
    "train_files, val_files = train_test_split(all_files, test_size=0.2, random_state=42)\n"
   ]
  },
  {
   "cell_type": "code",
   "execution_count": 87,
   "metadata": {},
   "outputs": [
    {
     "name": "stdout",
     "output_type": "stream",
     "text": [
      "Moved 38718 files to the training directory.\n",
      "Moved 9680 files to the validation directory.\n"
     ]
    }
   ],
   "source": [
    "# Step 3: Move files into train and validation directories\n",
    "for file in train_files:\n",
    "    dest_dir = os.path.join(train_dir, os.path.basename(os.path.dirname(file)))\n",
    "    os.makedirs(dest_dir, exist_ok=True)  # Ensure subdirectories are created\n",
    "    shutil.copy(file, os.path.join(dest_dir, os.path.basename(file)))\n",
    "\n",
    "for file in val_files:\n",
    "    dest_dir = os.path.join(validation_dir, os.path.basename(os.path.dirname(file)))\n",
    "    os.makedirs(dest_dir, exist_ok=True)  # Ensure subdirectories are created\n",
    "    shutil.copy(file, os.path.join(dest_dir, os.path.basename(file)))\n",
    "\n",
    "print(f\"Moved {len(train_files)} files to the training directory.\")\n",
    "print(f\"Moved {len(val_files)} files to the validation directory.\")"
   ]
  },
  {
   "cell_type": "code",
   "execution_count": 53,
   "metadata": {},
   "outputs": [
    {
     "name": "stderr",
     "output_type": "stream",
     "text": [
      "WARNING:absl:You are saving your model as an HDF5 file via `model.save()` or `keras.saving.save_model(model)`. This file format is considered legacy. We recommend using instead the native Keras format, e.g. `model.save('my_model.keras')` or `keras.saving.save_model(model, 'my_model.keras')`. \n"
     ]
    },
    {
     "name": "stdout",
     "output_type": "stream",
     "text": [
      "Model saved at: models/pain_recognition_model.h5\n"
     ]
    }
   ],
   "source": [
    "# Step 7: Save the model\n",
    "model_save_path = \"models/pain_recognition_model.h5\"\n",
    "os.makedirs(\"models\", exist_ok=True)\n",
    "model.save(model_save_path)\n",
    "print(f\"Model saved at: {model_save_path}\")"
   ]
  },
  {
   "cell_type": "code",
   "execution_count": 61,
   "metadata": {},
   "outputs": [],
   "source": [
    "# Import necessary libraries\n",
    "import os\n",
    "import shutil\n",
    "import numpy as np\n",
    "from sklearn.model_selection import train_test_split\n",
    "from tensorflow.keras.preprocessing.image import ImageDataGenerator\n",
    "from tensorflow.keras.models import Sequential\n",
    "from tensorflow.keras.layers import Input, Conv2D, MaxPooling2D, Flatten, Dense, Dropout\n",
    "from tensorflow.keras.optimizers import Adam\n",
    "from tensorflow.keras.models import load_model\n",
    "import matplotlib.pyplot as plt "
   ]
  },
  {
   "cell_type": "code",
   "execution_count": 62,
   "metadata": {},
   "outputs": [],
   "source": [
    "# Step 1: Define paths and parameters\n",
    "IMG_SIZE = 200  # Image size (200x200)\n",
    "BATCH_SIZE = 32  # Batch size\n",
    "EPOCHS = 10  # Number of epochs\n",
    "VALID_SPLIT = 0.2  # Validation split\n"
   ]
  },
  {
   "cell_type": "code",
   "execution_count": 63,
   "metadata": {},
   "outputs": [
    {
     "name": "stderr",
     "output_type": "stream",
     "text": [
      "<>:3: SyntaxWarning: invalid escape sequence '\\I'\n",
      "<>:3: SyntaxWarning: invalid escape sequence '\\I'\n",
      "C:\\Users\\DELL\\AppData\\Local\\Temp\\ipykernel_14572\\626026064.py:3: SyntaxWarning: invalid escape sequence '\\I'\n",
      "  images_dir = os.path.join(base_dir, \"Images\\Images\")  # Path to all images\n"
     ]
    }
   ],
   "source": [
    "# Define directories\n",
    "base_dir = r\"D:\\pain recognition final\\data\\emotionpain\"  # Base directory\n",
    "images_dir = os.path.join(base_dir, \"Images\\Images\")  # Path to all images\n",
    "output_dir = os.path.join(base_dir, \"processed_data\")  # Output directory\n",
    "train_dir = os.path.join(output_dir, \"train\")  # Training directory\n",
    "validation_dir = os.path.join(output_dir, \"validation\")  # Validation directory\n",
    "model_path = os.path.join(base_dir, \"models\", \"pain_recognition_model.h5\")  # Model save path\n",
    " "
   ]
  },
  {
   "cell_type": "code",
   "execution_count": 64,
   "metadata": {},
   "outputs": [],
   "source": [
    "# Step 2: Prepare directories\n",
    "os.makedirs(train_dir, exist_ok=True)\n",
    "os.makedirs(validation_dir, exist_ok=True)\n",
    "os.makedirs(os.path.dirname(model_path), exist_ok=True) "
   ]
  },
  {
   "cell_type": "code",
   "execution_count": 65,
   "metadata": {},
   "outputs": [],
   "source": [
    "# Step 3: Collect and organize data dynamically\n",
    "def prepare_dataset(images_dir, train_dir, validation_dir, valid_extensions=(\".jpg\", \".jpeg\", \".png\")):\n",
    "    all_files = []\n",
    "    for root, _, files in os.walk(images_dir):  # Traverse the Images directory\n",
    "        for file in files:\n",
    "            if file.lower().endswith(valid_extensions):  # Check valid image extensions\n",
    "                all_files.append(os.path.join(root, file))\n",
    "    \n",
    "    print(f\"Found {len(all_files)} valid image files.\")\n",
    "\n",
    "    # Split dataset into training and validation sets\n",
    "    train_files, val_files = train_test_split(all_files, test_size=VALID_SPLIT, random_state=42)\n",
    "\n",
    "    # Move files into train and validation directories\n",
    "    for file in train_files:\n",
    "        dest_dir = os.path.join(train_dir, os.path.basename(os.path.dirname(file)))\n",
    "        os.makedirs(dest_dir, exist_ok=True)  # Ensure subdirectories are created\n",
    "        shutil.copy(file, os.path.join(dest_dir, os.path.basename(file)))\n",
    "\n",
    "    for file in val_files:\n",
    "        dest_dir = os.path.join(validation_dir, os.path.basename(os.path.dirname(file)))\n",
    "        os.makedirs(dest_dir, exist_ok=True)  # Ensure subdirectories are created\n",
    "        shutil.copy(file, os.path.join(dest_dir, os.path.basename(file)))\n",
    "\n",
    "    print(f\"Training data prepared: {len(train_files)} files\")\n",
    "    print(f\"Validation data prepared: {len(val_files)} files\")\n",
    " "
   ]
  },
  {
   "cell_type": "code",
   "execution_count": 66,
   "metadata": {},
   "outputs": [],
   "source": [
    "# Step 4: Build the model\n",
    "def build_model(input_shape, num_classes):\n",
    "    model = Sequential([\n",
    "        Input(shape=input_shape),\n",
    "        Conv2D(32, (3, 3), activation='relu'),\n",
    "        MaxPooling2D(pool_size=(2, 2)),\n",
    "\n",
    "        Conv2D(64, (3, 3), activation='relu'),\n",
    "        MaxPooling2D(pool_size=(2, 2)),\n",
    "\n",
    "        Conv2D(128, (3, 3), activation='relu'),\n",
    "        MaxPooling2D(pool_size=(2, 2)),\n",
    "\n",
    "        Flatten(),\n",
    "        Dense(128, activation='relu'),\n",
    "        Dropout(0.5),\n",
    "        Dense(num_classes, activation='softmax')\n",
    "    ])\n",
    "    return model "
   ]
  },
  {
   "cell_type": "code",
   "execution_count": 67,
   "metadata": {},
   "outputs": [
    {
     "name": "stdout",
     "output_type": "stream",
     "text": [
      "Found 48398 valid image files.\n",
      "Training data prepared: 38718 files\n",
      "Validation data prepared: 9680 files\n",
      "Found 38718 images belonging to 200 classes.\n",
      "Found 9680 images belonging to 200 classes.\n",
      "Building a new model...\n",
      "Epoch 1/10\n",
      "\u001b[1m1210/1210\u001b[0m \u001b[32m━━━━━━━━━━━━━━━━━━━━\u001b[0m\u001b[37m\u001b[0m \u001b[1m1664s\u001b[0m 1s/step - accuracy: 0.0281 - loss: 4.9353 - val_accuracy: 0.2540 - val_loss: 2.3614\n",
      "Epoch 2/10\n",
      "\u001b[1m1210/1210\u001b[0m \u001b[32m━━━━━━━━━━━━━━━━━━━━\u001b[0m\u001b[37m\u001b[0m \u001b[1m1501s\u001b[0m 1s/step - accuracy: 0.1625 - loss: 2.9573 - val_accuracy: 0.3163 - val_loss: 1.8084\n",
      "Epoch 3/10\n",
      "\u001b[1m1210/1210\u001b[0m \u001b[32m━━━━━━━━━━━━━━━━━━━━\u001b[0m\u001b[37m\u001b[0m \u001b[1m1734s\u001b[0m 1s/step - accuracy: 0.2257 - loss: 2.4482 - val_accuracy: 0.3732 - val_loss: 1.6545\n",
      "Epoch 4/10\n",
      "\u001b[1m1210/1210\u001b[0m \u001b[32m━━━━━━━━━━━━━━━━━━━━\u001b[0m\u001b[37m\u001b[0m \u001b[1m2871s\u001b[0m 2s/step - accuracy: 0.2536 - loss: 2.2553 - val_accuracy: 0.3975 - val_loss: 1.5653\n",
      "Epoch 5/10\n",
      "\u001b[1m1210/1210\u001b[0m \u001b[32m━━━━━━━━━━━━━━━━━━━━\u001b[0m\u001b[37m\u001b[0m \u001b[1m4283s\u001b[0m 4s/step - accuracy: 0.2696 - loss: 2.1473 - val_accuracy: 0.4232 - val_loss: 1.4899\n",
      "Epoch 6/10\n",
      "\u001b[1m1210/1210\u001b[0m \u001b[32m━━━━━━━━━━━━━━━━━━━━\u001b[0m\u001b[37m\u001b[0m \u001b[1m1916s\u001b[0m 2s/step - accuracy: 0.2833 - loss: 2.0840 - val_accuracy: 0.4278 - val_loss: 1.4555\n",
      "Epoch 7/10\n",
      "\u001b[1m1210/1210\u001b[0m \u001b[32m━━━━━━━━━━━━━━━━━━━━\u001b[0m\u001b[37m\u001b[0m \u001b[1m1519s\u001b[0m 1s/step - accuracy: 0.3057 - loss: 1.9977 - val_accuracy: 0.4818 - val_loss: 1.3507\n",
      "Epoch 8/10\n",
      "\u001b[1m1210/1210\u001b[0m \u001b[32m━━━━━━━━━━━━━━━━━━━━\u001b[0m\u001b[37m\u001b[0m \u001b[1m1602s\u001b[0m 1s/step - accuracy: 0.3170 - loss: 1.9531 - val_accuracy: 0.4677 - val_loss: 1.3693\n",
      "Epoch 9/10\n",
      "\u001b[1m1210/1210\u001b[0m \u001b[32m━━━━━━━━━━━━━━━━━━━━\u001b[0m\u001b[37m\u001b[0m \u001b[1m1579s\u001b[0m 1s/step - accuracy: 0.3289 - loss: 1.8930 - val_accuracy: 0.5045 - val_loss: 1.2899\n",
      "Epoch 10/10\n",
      "\u001b[1m1210/1210\u001b[0m \u001b[32m━━━━━━━━━━━━━━━━━━━━\u001b[0m\u001b[37m\u001b[0m \u001b[1m1643s\u001b[0m 1s/step - accuracy: 0.3414 - loss: 1.8662 - val_accuracy: 0.4712 - val_loss: 1.3127\n"
     ]
    },
    {
     "name": "stderr",
     "output_type": "stream",
     "text": [
      "WARNING:absl:You are saving your model as an HDF5 file via `model.save()` or `keras.saving.save_model(model)`. This file format is considered legacy. We recommend using instead the native Keras format, e.g. `model.save('my_model.keras')` or `keras.saving.save_model(model, 'my_model.keras')`. \n"
     ]
    },
    {
     "name": "stdout",
     "output_type": "stream",
     "text": [
      "Model saved at: D:\\pain recognition final\\data\\emotionpain\\models\\pain_recognition_model.h5\n"
     ]
    },
    {
     "data": {
      "image/png": "[encoded data removed]",
      "text/plain": [
       "<Figure size 1200x400 with 2 Axes>"
      ]
     },
     "metadata": {},
     "output_type": "display_data"
    }
   ],
   "source": [
    "# Step 5: Train the model dynamically\n",
    "def train_model(train_dir, validation_dir, model_path, epochs=EPOCHS, batch_size=BATCH_SIZE, img_size=IMG_SIZE):\n",
    "    # Data preprocessing\n",
    "    train_datagen = ImageDataGenerator(\n",
    "        rescale=1./255,\n",
    "        rotation_range=20,\n",
    "        width_shift_range=0.2,\n",
    "        height_shift_range=0.2,\n",
    "        shear_range=0.2,\n",
    "        zoom_range=0.2,\n",
    "        horizontal_flip=True,\n",
    "        fill_mode='nearest'\n",
    "    )\n",
    "    validation_datagen = ImageDataGenerator(rescale=1./255)\n",
    "\n",
    "    # Data generators\n",
    "    train_generator = train_datagen.flow_from_directory(\n",
    "        train_dir,\n",
    "        target_size=(img_size, img_size),\n",
    "        batch_size=batch_size,\n",
    "        class_mode='categorical'\n",
    "    )\n",
    "    validation_generator = validation_datagen.flow_from_directory(\n",
    "        validation_dir,\n",
    "        target_size=(img_size, img_size),\n",
    "        batch_size=batch_size,\n",
    "        class_mode='categorical'\n",
    "    )\n",
    "\n",
    "    # Build or load the model\n",
    "    if os.path.exists(model_path):\n",
    "        print(\"Loading existing model...\")\n",
    "        model = load_model(model_path)\n",
    "    else:\n",
    "        print(\"Building a new model...\")\n",
    "        model = build_model(input_shape=(img_size, img_size, 3), num_classes=train_generator.num_classes)\n",
    "\n",
    "    # Compile the model\n",
    "    model.compile(optimizer=Adam(), loss='categorical_crossentropy', metrics=['accuracy'])\n",
    "\n",
    "    # Train the model\n",
    "    history = model.fit(\n",
    "        train_generator,\n",
    "        validation_data=validation_generator,\n",
    "        epochs=epochs,\n",
    "        steps_per_epoch=len(train_generator),\n",
    "        validation_steps=len(validation_generator)\n",
    "    )\n",
    "\n",
    "    # Save the trained model\n",
    "    model.save(model_path)\n",
    "    print(f\"Model saved at: {model_path}\")\n",
    "\n",
    "    # Plot training history\n",
    "    plt.figure(figsize=(12, 4))\n",
    "    plt.subplot(1, 2, 1)\n",
    "    plt.plot(history.history['accuracy'], label='Training Accuracy')\n",
    "    plt.plot(history.history['val_accuracy'], label='Validation Accuracy')\n",
    "    plt.title('Model Accuracy')\n",
    "    plt.xlabel('Epochs')\n",
    "    plt.ylabel('Accuracy')\n",
    "    plt.legend()\n",
    "\n",
    "    plt.subplot(1, 2, 2)\n",
    "    plt.plot(history.history['loss'], label='Training Loss')\n",
    "    plt.plot(history.history['val_loss'], label='Validation Loss')\n",
    "    plt.title('Model Loss')\n",
    "    plt.xlabel('Epochs')\n",
    "    plt.ylabel('Loss')\n",
    "    plt.legend()\n",
    "\n",
    "    plt.show()\n",
    "\n",
    "# Step 6: Run the pipeline\n",
    "prepare_dataset(images_dir, train_dir, validation_dir)\n",
    "train_model(train_dir, validation_dir, model_path)"
   ]
  },
  {
   "cell_type": "code",
   "execution_count": 1,
   "metadata": {},
   "outputs": [
    {
     "ename": "NameError",
     "evalue": "name 'mp' is not defined",
     "output_type": "error",
     "traceback": [
      "\u001b[1;31m---------------------------------------------------------------------------\u001b[0m",
      "\u001b[1;31mNameError\u001b[0m                                 Traceback (most recent call last)",
      "Cell \u001b[1;32mIn[1], line 6\u001b[0m\n\u001b[0;32m      1\u001b[0m \u001b[38;5;66;03m# %% [markdown]\u001b[39;00m\n\u001b[0;32m      2\u001b[0m \u001b[38;5;66;03m# ## Part 2: LSTM Model for Video-based Pain Recognition\u001b[39;00m\n\u001b[0;32m      3\u001b[0m \n\u001b[0;32m      4\u001b[0m \u001b[38;5;66;03m# %% [markdown]\u001b[39;00m\n\u001b[0;32m      5\u001b[0m \u001b[38;5;66;03m# ### 2.1 MediaPipe Setup and Feature Extraction\u001b[39;00m\n\u001b[1;32m----> 6\u001b[0m mp_pose \u001b[38;5;241m=\u001b[39m \u001b[43mmp\u001b[49m\u001b[38;5;241m.\u001b[39msolutions\u001b[38;5;241m.\u001b[39mpose\n\u001b[0;32m      7\u001b[0m pose \u001b[38;5;241m=\u001b[39m mp_pose\u001b[38;5;241m.\u001b[39mPose(static_image_mode\u001b[38;5;241m=\u001b[39m\u001b[38;5;28;01mFalse\u001b[39;00m, min_detection_confidence\u001b[38;5;241m=\u001b[39m\u001b[38;5;241m0.5\u001b[39m)\n",
      "\u001b[1;31mNameError\u001b[0m: name 'mp' is not defined"
     ]
    }
   ],
   "source": [
    "# %% [markdown]\n",
    "# ## Part 2: LSTM Model for Video-based Pain Recognition\n",
    "\n",
    "# %% [markdown]\n",
    "# ### 2.1 MediaPipe Setup and Feature Extraction\n",
    "mp_pose = mp.solutions.pose\n",
    "pose = mp_pose.Pose(static_image_mode=False, min_detection_confidence=0.5)"
   ]
  },
  {
   "cell_type": "code",
   "execution_count": null,
   "metadata": {},
   "outputs": [],
   "source": []
  }
 ],
 "metadata": {
  "kernelspec": {
   "display_name": "aniketvenv",
   "language": "python",
   "name": "python3"
  },
  "language_info": {
   "codemirror_mode": {
    "name": "ipython",
    "version": 3
   },
   "file_extension": ".py",
   "mimetype": "text/x-python",
   "name": "python",
   "nbconvert_exporter": "python",
   "pygments_lexer": "ipython3",
   "version": "3.12.0"
  }
 },
 "nbformat": 4,
 "nbformat_minor": 2
}
